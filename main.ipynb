{
 "cells": [
  {
   "cell_type": "code",
   "execution_count": 100,
   "metadata": {},
   "outputs": [
    {
     "name": "stdout",
     "output_type": "stream",
     "text": [
      "Current value = \"abc\"\n",
      "[ThirdClass: abc]\n",
      "[ThirdClass: abcabcabc]\n"
     ]
    }
   ],
   "source": [
    "class FirstClass: # Define a class object\n",
    "    def setdata(self, value): # Define class's methods\n",
    "        self.data = value # self is the instance\n",
    "    def display(self):\n",
    "        print(self.data)\n",
    "\n",
    "class SecondClass(FirstClass): # Inherits setdata\n",
    "    def display(self): # Changes display\n",
    "        print('Current value = \"%s\"' % self.data)\n",
    "\n",
    "class ThirdClass(SecondClass): # Inherit from SecondClass\n",
    "    def __init__(self, value): # On \"ThirdClass(value)\"\n",
    "        self.data = value\n",
    "    def __add__(self, other): # On \"self + other\"\n",
    "        return ThirdClass(self.data + other)\n",
    "    def __str__(self): # On \"print(self)\", \"str()\"\n",
    "        return f'[ThirdClass: {self.data}]'\n",
    "    def mul(self,count):\n",
    "        self.data *= count\n",
    "        \n",
    "\n",
    "a = ThirdClass('abc') # __init__ called\n",
    "a.display()\n",
    "print(a)\n",
    "a.mul(3) # mul: changes instance in place\n",
    "print(a)\n"
   ]
  },
  {
   "cell_type": "markdown",
   "metadata": {},
   "source": [
    "Assign a Chromosome class"
   ]
  },
  {
   "cell_type": "code",
   "execution_count": 101,
   "metadata": {},
   "outputs": [],
   "source": [
    "import pandas as pd\n",
    "import re\n",
    "import os\n",
    "\n",
    "class Chromosome:\n",
    "    count = 0\n",
    "    def __init__(self, filename):  #initilize filename\n",
    "        self.filename = filename\n",
    "        Chromosome.count+=1\n",
    "\n",
    "\n",
    "\n",
    "        def get_data(filename):  #get csv data\n",
    "            data = pd.read_csv(\"data\\\\syntenic\\\\\" + filename, skiprows=[0])\n",
    "            return data\n",
    "\n",
    "        def get_species(filename):  #get species name by filename\n",
    "            species = re.search(\"[A-Za-z\\s]+\", filename)\n",
    "            return species.group(0)\n",
    "\n",
    "        def get_chromosome_location(filename):  #get chromosome_location by filename\n",
    "            temp = re.sub(\".CSV\", \"\", filename)  #remove filetype\n",
    "            location = re.search(\"[_]([A-Za-z0-9\\s_.]+)\", temp)\n",
    "            return location.group(1)\n",
    "\n",
    "        def get_gene(data):  #get gene\n",
    "            neighbourgenes = []\n",
    "            for gene in data[\"Gene symbol\"]:\n",
    "                if \"CACNG\" in gene.upper():\n",
    "                    neighbourgenes.append(gene)\n",
    "                elif \"TMEM114\" in gene.upper():\n",
    "                    neighbourgenes.append(gene)\n",
    "                elif \"TMEM235\" in gene.upper():\n",
    "                    neighbourgenes.append(gene)\n",
    "            return neighbourgenes\n",
    "\n",
    "        def get_neighbour_genes(genes,data,n):\n",
    "            neighbourindex = []  #a new list to save index of neighbour genes\n",
    "            neighbourgene = []\n",
    "            for index, gene in enumerate(data[\"Gene symbol\"]):  #a loop to save neighbourgene index\n",
    "                if gene in genes:\n",
    "                    for i in range (index-n, index+n+1):\n",
    "                        neighbourindex.append(i)\n",
    "            neighbourindex = list(set(neighbourindex))\n",
    "            for i in neighbourindex:\n",
    "                try:\n",
    "                    neighbourgene.append(data[\"Gene symbol\"][i])\n",
    "                except:\n",
    "                    pass\n",
    "            return neighbourgene\n",
    "\n",
    "        self.data = get_data(self.filename)\n",
    "        self.species = get_species(self.filename)\n",
    "        self.location = get_chromosome_location(self.filename)\n",
    "        self.targetgenes = get_gene(self.data)\n",
    "        self.neighbour = get_neighbour_genes(self.targetgenes,self.data,5)\n",
    "        self.textx = None\n",
    "        self.texty = None\n",
    "\n",
    "    def set_genes(self,gene):\n",
    "        self.genes = gene\n"
   ]
  },
  {
   "cell_type": "markdown",
   "metadata": {},
   "source": [
    "Initialize class"
   ]
  },
  {
   "cell_type": "code",
   "execution_count": 102,
   "metadata": {},
   "outputs": [
    {
     "name": "stdout",
     "output_type": "stream",
     "text": [
      "c0: Anolis carolinensis C2 ['pgs1', 'LOC103277795', 'socs3', 'LOC103277796', 'LOC100564571', 'tmem235', 'birc5', 'afmid', 'tk1', 'syngr2', 'tmc8']\n",
      "\n",
      "c1: Anolis carolinensis C5 ['myh9', 'LOC103278846', 'txn2', 'foxred2', 'eif3d', 'cacng2', 'ift27', 'pvalb', 'ncf4', 'csf2rb', 'tex33']\n",
      "\n",
      "c2: Anolis carolinensis scaffold NW_003338797.1 ['cacng5', 'cacng4', 'cacng1', 'helz', 'psmd12', 'pitpnc1', 'LOC107983219', 'nol11']\n",
      "\n",
      "c3: Anolis carolinensis scaffold NW_003338810.1 ['rbfox1', 'mir5411', 'LOC107983238', 'LOC107983239', 'tmem114', 'mettl22', 'abat', 'tmem186', 'pmm2', 'carhsp1']\n",
      "\n",
      "c4: Anolis carolinensis scaffold NW_003338876.1 ['ccdc114', 'myadm', 'LOC100557974', 'prkcg', 'LOC103280215', 'cacng6', 'cacng8', 'cacng7', 'LOC100560082', 'rps9', 'lmtk3', 'LOC100560478', 'LOC100560675']\n",
      "\n",
      "c5: Canis lupus familiaris C1 ['LOC119870904', 'LOC484314', 'VSTM1', 'CACNG6', 'CACNG8', 'CACNG7', 'PRKCG', 'MYADM', 'NLRP12', 'MIR371', 'LOC106559259', 'LOC106559612', 'LOC119875990']\n",
      "\n",
      "c6: Canis lupus familiaris C10 ['CACNG2', 'MIR8827', 'EIF3D', 'LOC111097659', 'FOXRED2', 'LOC111097833', 'CSF2RB', 'NCF4', 'PVALB', 'IFT27', 'LOC111097658']\n",
      "\n",
      "c7: Canis lupus familiaris C6 ['PMM2', 'TMEM186', 'ABAT', 'LOC111096467', 'METTL22', 'TMEM114', 'LOC119872336', 'RBFOX1', 'LOC106558895', 'LOC100686080', 'LOC102154901', 'LOC100687897', 'RBBP6', 'LOC111096272', 'LOC111096274', 'LOC100686870', 'CACNG3', 'LOC119872178', 'PRKCB', 'LOC119872434', 'LOC119872330', 'CHP2']\n",
      "\n",
      "c8: Canis lupus familiaris C9 ['PGS1', 'SOCS3', 'LOC119873213', 'LOC111097281', 'LOC491550', 'TMEM235', 'BIRC5', 'AFMID', 'TK1', 'SYNGR2', 'LOC119873214', 'PSMD12', 'LOC111097528', 'LOC480464', 'LOC119873413', 'HELZ', 'CACNG1', 'CACNG4', 'LOC102154199', 'CACNG5', 'LOC106559242', 'PRKCA', 'LOC119873461', 'LOC111097324', 'LOC111097325']\n",
      "\n",
      "c9: Danio rerio C1 ['socs1b', 'si:ch73-191k20.4', 'LOC103911865', 'tlr2', 'prkcba', 'cacng3a', 'si:ch211-14k19.8', 'ndufab1a', 'palb2', 'LOC110439775', 'zgc:152698']\n",
      "\n",
      "c10: Danio rerio C12 ['cyth1b', 'pgs1', 'LOC108191731', 'socs3b', 'tha1', 'tmem235', 'birc5a', 'fscn2b', 'LOC103911938', 'bahcc1b', 'slc38a10']\n",
      "\n",
      "c11: Danio rerio C16 ['u2af2a', 'cacng6b', 'cacng8b', 'cacng7b', 'prkcg', 'LOC100149482', 'zgc:101640', 'si:dkeyp-69b9.3', 'LOC101883024', 'sbk3', 'epn1', 'foxj2', 'isoc2']\n",
      "\n",
      "c12: Danio rerio C19 ['fam131ba', 'clcn1a', 'si:dkey-14o18.6', 'slc2a3a', 'si:dkey-14o18.2', 'cacng6a', 'LOC108180147', 'cacng8a', 'cacng7a', 'grin2da', 'dbpa', 'znf865', 'shisa7b', 'cnot3b']\n",
      "\n",
      "c13: Danio rerio C3 ['si:dkey-188h10.3', 'tex2', 'axin2', 'cep112', 'si:ch73-374l24.1', 'cacng5b', 'cyth3b', 'LOC797202', 'rac1b', 'stk19', 'LOC101885631', 'anks4b', 'pitpnc1', 'helz', 'cacng1b', 'cacng4b', 'aimp2', 'pvalb8', 'pvalb4', 'pvalb1', 'pvalb5', 'LOC566378', 'itga3a', 'ca10b', 'LOC108182833', 'smarce1', 'prkcbb', 'cacng3b', 'rbbp6', 'tnrc6a', 'ndufab1b', 'rpusd1', 'carhsp1', 'abat', 'mettl22', 'LOC103910254', 'LOC103910253', 'tmem114', 'rbfox1', '12-Sep', 'fbxl16', 'si:dkey-20j1.2', 'gsg1l', 'dxo', 'sult3st1', 'LOC798736', 'si:ch73-233k15.2', 'LOC110437798', 'LOC101886115', 'cacng2a', 'LOC101886369', 'rpl3', 'slc25a39', 'rpl27', 'si:dkey-151m15.5', 'dctn5']\n",
      "\n",
      "c14: Danio rerio C6 ['inha', 'spega', 'obsl1a', 'cidec', 'prkca', 'cacng5a', 'LOC110439882', 'cacng1a', 'cacng4a', 'psmd12', 'micall1a', 'si:dkey-43k4.3', 'ppp1r12c', 'si:dkey-43k4.5']\n",
      "\n",
      "c15: Homo sapiens C16 ['CHP2', 'PRKCB', 'LOC105371141', 'MIR1273H', 'LINC02194', 'CACNG3', 'RNU7-24P', 'LOC105371143', 'RBBP6', 'LOC107984829', 'TNRC6A', 'LOC105371069', 'LOC105371070', 'LINC02152', 'LOC105371072', 'LOC100131080', 'TMEM114', 'METTL22', 'ABAT', 'RN7SL743P', 'RNU7-63P', 'LOC107984840']\n",
      "\n",
      "c16: Homo sapiens C17 ['RN7SL735P', 'PRKCA-AS1', 'RNU6-928P', 'RNA5SP445', 'MIR634', 'CACNG5', 'RNA5SP446', 'CACNG4', 'CACNG1', 'HELZ', 'RPL36AP48', 'HELZ-AS1', 'RNA5SP447', 'PSMD12', 'SYNGR2', 'TK1', 'LOC107985050', 'AFMID', 'BIRC5', 'TMEM235', 'LOC105371910', 'THA1P', 'LINC01993', 'LOC105371912', 'SOCS3']\n",
      "\n",
      "c17: Homo sapiens C19 ['MYADM-AS1', 'MYADM', 'PRKCG', 'CACNG7', 'CACNG8', 'MIR935', 'CACNG6', 'VSTM1', 'TARM1', 'OSCAR', 'NDUFA3', 'TFPT', 'MIR373', 'NLRP12']\n",
      "\n",
      "c18: Homo sapiens C22 ['PVALB', 'NCF4-AS1', 'NCF4', 'FOXRED2', 'LOC105373020', 'LOC105373019', 'EIF3D', 'LOC100500719', 'CACNG2', 'LOC105373021', 'IFT27']\n",
      "\n",
      "c19: Mus musculus C11 ['Mir7223', 'Gm51922', 'Gm11655', 'Gm11725', 'Socs3', 'Pgs1', 'Mir6933', 'Mir6932', 'Cacng1', 'Cacng4', 'Gm11650', 'Cacng5', 'Tmem235', 'Tha1', 'Psmd12', 'A830035A12Rik', 'Gm39426', 'Helz', '6030468B19Rik', 'Syngr2', 'Tk1', 'Afmid', 'Birc5', 'Prkca', 'LOC118567874']\n",
      "\n",
      "c20: Mus musculus C15 ['Cacng2', 'Gm46520', 'A730060N03Rik', 'Ift27', 'Pvalb', 'Ncf4', 'Gm22107', 'LOC118568208', 'Txn2', 'Foxred2', 'Eif3d']\n",
      "\n",
      "c21: Mus musculus C16 ['Gm36824', 'Gm29854', 'Gm26159', 'Gm29936', 'Gm24579', 'Tmem114', 'Gm30012', 'Mettl22', 'Gm23706', 'Abat', 'Gm18792']\n",
      "\n",
      "c22: Mus musculus C7 ['Mir295', 'Gm20553', 'Gm5340', 'Myadm', 'Prkcg', 'Cacng7', 'Gm9567', 'Cacng8', 'Gm23450', '3300002P13Rik', 'Cacng6', 'Gm35037', 'Gm45920', 'Tarm1', 'Oscar', 'Ndufa3', 'Gm23614', 'Gm30059', 'Prkcb', 'Gm51497', 'Gm14388', 'Cacng3', 'Gm29759', 'Gm39082', 'Gm39083', '4930413G21Rik', 'Rbbp6']\n",
      "\n",
      "c23: Petromyzon marinus C26 ['LOC116946189', 'TNRC6C', 'LOC116946190', 'LOC116946069', 'LOC116946070', '(CACNG2-like) LOC116946191', 'LOC116946192', 'LOC116946085', 'IFT27', 'LOC116946193', 'LOC116946195']\n",
      "\n",
      "c24: Petromyzon marinus C3 ['KPNA2', 'DDX17', 'LOC116956264', 'AIMP2', 'LOC116956278', 'CACNG1', 'RBBP6', 'LOC116956286', 'GPANK1', 'CIAO3', 'TMEM184B', 'MCRIP2', 'TRNAG-CCC', 'TRNAG-CCC', 'LOC116954008', 'LOC116954016', '(TMEM114-like) LOC116954040', 'LOC116954029', 'C3H7orf50', 'LOC116954049', 'LOC116954080', 'LOC116954065']\n",
      "\n",
      "c25: Petromyzon marinus C37 ['LOC116949652', 'HS3ST6', 'SRSF2', 'LOC116949655', 'MEIOB', '(CACNG2-like) LOC116949560', 'LOC116949497', 'LOC116949499', 'LOC116949547', 'LOC116949550', 'B9D1']\n",
      "\n",
      "c26: Petromyzon marinus C43 ['LOC116951509', 'MARF1', 'ABCC1', 'LOC116951518', 'CACNG3', '(CACNG5-like) LOC116951515', 'LOC116951511', 'LOC116951540', 'AQP8', 'EEF2K', 'POLR3E', 'LOC116951537']\n",
      "\n",
      "c27: Petromyzon marinus C72 ['LOC116957297', 'LOC116957344', 'LOC116957312', 'LOC116957320', 'AANAT', '(CACNG5-like)LOC116957315', 'LOC116957319', 'LOC116957316', 'LOC116957283', 'LOC116957335', 'LOC116957337']\n",
      "\n",
      "c28: Xenopus tropicalis C10 ['psmd12', 'pitpnc1', 'LOC108645564', 'LOC116408077', 'LOC116406464', 'cep112', 'apoh', 'prkca', 'cacng5', 'cacng4', 'cacng1', 'LOC116408015', 'helz']\n",
      "\n",
      "c29: Xenopus tropicalis C4 ['tex33', 'csf2rb', 'ncf4', 'pvalb', 'ift27', 'cacng2', 'eif3d', 'mustn1', 'stimate', 'LOC116410503', 'sfmbt1']\n",
      "\n",
      "c30: Xenopus tropicalis C7 ['emp3', 'ccdc63', 'myadm', 'LOC100497740', 'prkcg', 'cacng7', 'cacng8', 'cacng6', 'pitpnc1l', 'axin2', 'fam83e', 'LOC100497104', 'LOC100498051']\n",
      "\n",
      "c31: Xenopus tropicalis C9 ['carhsp1', 'pmm1', 'tmem186', 'abat', 'mettl22', 'tmem114', 'rbfox1', 'enpp7-l', 'eef2kmt', 'alg1', 'gsg1l', 'pgp', 'bricd5', 'mlst8', 'hexdl', 'caskin1', 'cacng3', 'prkcb', 'aqp8', 'lcmt1', 'arhgap17', 'tex47']\n",
      "\n"
     ]
    }
   ],
   "source": [
    "filelist = os.listdir(\"data\\\\syntenic\")  #get file list\n",
    "for index, file in enumerate(filelist):  #a loop to initialize class chromosome\n",
    "    exec(f\"c{index} = Chromosome(file)\")  #initialize chromosome\n",
    "    exec('print(f\"c{index}: \", end = \"\")')  #print initialized class name\n",
    "    exec(f\"print(c{index}.species, c{index}.location, c{index}.neighbour)\") #print species and location\n",
    "    print()"
   ]
  },
  {
   "cell_type": "markdown",
   "metadata": {},
   "source": [
    "Create dataframe"
   ]
  },
  {
   "cell_type": "code",
   "execution_count": 103,
   "metadata": {},
   "outputs": [],
   "source": [
    "df = pd.DataFrame()\n",
    "\n",
    "for index, file in enumerate(filelist):  #add column name species and location to class.data (Dataframe)\n",
    "     exec(f\"df{index} = c{index}.data\")  #assign df \n",
    "     exec(f\"df{index}.insert(0,'Species', c{index}.species)\")  #insert species\n",
    "     exec(f\"df{index}.insert(1,'Location', c{index}.location)\")  #insert location\n",
    "     exec(f\"df = df.append(df{index}, ignore_index=True)\")\n",
    "\n",
    "df['Gene symbol'] = df['Gene symbol'].str.upper()  #change gene symbol to upper letter"
   ]
  },
  {
   "cell_type": "markdown",
   "metadata": {},
   "source": [
    "Set distance"
   ]
  },
  {
   "cell_type": "code",
   "execution_count": 104,
   "metadata": {},
   "outputs": [],
   "source": [
    "distance = 10  #distance as neighbour\n",
    "neighbourindex = []  #a new list to save index of neighbour genes\n",
    "for index, gene in enumerate(df[\"Gene symbol\"]):  #a loop to save neighbourgene index\n",
    "    if (\"CACNG\") in gene:\n",
    "        for i in range (index-distance, index+distance+1):\n",
    "            neighbourindex.append(i)\n",
    "    elif (\"TMEM114\") in gene:\n",
    "        for i in range (index-distance, index+distance+1):\n",
    "            neighbourindex.append(i)\n",
    "    elif (\"TMEM235\") in gene:\n",
    "        for i in range (index-distance, index+distance+1):\n",
    "            neighbourindex.append(i)\n",
    "\n",
    "neighbourindex = sorted(list(set(neighbourindex)))  #remove duplicates\n",
    "newdf = df.iloc[neighbourindex, :-1]  #a new data by neighbourindex and remove name column"
   ]
  },
  {
   "cell_type": "code",
   "execution_count": 105,
   "metadata": {},
   "outputs": [],
   "source": [
    "scoredict = {}  #a dictionary to store score\n",
    "for gene in newdf[\"Gene symbol\"]:  #loop to calculate score\n",
    "    if \"CACNG\" in gene:\n",
    "        scoredict[gene] = 100\n",
    "    elif \"TMEM114\" in gene:\n",
    "        scoredict[gene] = 100\n",
    "    elif \"TMEM235\" in gene:\n",
    "        scoredict[gene] = 100\n",
    "    else:\n",
    "        try:\n",
    "            scoredict[gene]\n",
    "            scoredict[gene].append(1)  #add score\n",
    "        except:\n",
    "            scoredict[gene] = [1]  #build score\n",
    "\n",
    "for gene in scoredict:  #append list item to score\n",
    "    if type(scoredict[gene]) == list:\n",
    "        scoredict[gene] = len(scoredict[gene])\n"
   ]
  },
  {
   "cell_type": "markdown",
   "metadata": {},
   "source": [
    "Set a minimum score"
   ]
  },
  {
   "cell_type": "code",
   "execution_count": 106,
   "metadata": {},
   "outputs": [
    {
     "name": "stdout",
     "output_type": "stream",
     "text": [
      "c0: Anolis carolinensis C2 ['PGS1', 'SOCS3', 'TMEM235', 'BIRC5', 'AFMID', 'TK1', 'SYNGR2', 'TMC8']\n",
      "\n",
      "c1: Anolis carolinensis C5 ['MYH9', 'TXN2', 'FOXRED2', 'EIF3D', 'CACNG2', 'IFT27', 'PVALB', 'NCF4', 'CSF2RB', 'TEX33']\n",
      "\n",
      "c2: Anolis carolinensis scaffold NW_003338797.1 ['CACNG5', 'CACNG4', 'CACNG1', 'HELZ', 'PSMD12', 'PITPNC1', 'NOL11']\n",
      "\n",
      "c3: Anolis carolinensis scaffold NW_003338810.1 ['RBFOX1', 'TMEM114', 'METTL22', 'ABAT', 'TMEM186', 'PMM2', 'CARHSP1']\n",
      "\n",
      "c4: Anolis carolinensis scaffold NW_003338876.1 ['MYADM', 'PRKCG', 'CACNG6', 'CACNG8', 'CACNG7', 'RPS9']\n",
      "\n",
      "c5: Canis lupus familiaris C1 ['VSTM1', 'CACNG6', 'CACNG8', 'CACNG7', 'PRKCG', 'MYADM', 'NLRP12']\n",
      "\n",
      "c6: Canis lupus familiaris C10 ['CACNG2', 'EIF3D', 'FOXRED2', 'CSF2RB', 'NCF4', 'PVALB', 'IFT27']\n",
      "\n",
      "c7: Canis lupus familiaris C6 ['PMM2', 'TMEM186', 'ABAT', 'METTL22', 'TMEM114', 'RBFOX1', 'RBBP6', 'CACNG3', 'PRKCB', 'CHP2']\n",
      "\n",
      "c8: Canis lupus familiaris C9 ['PGS1', 'SOCS3', 'TMEM235', 'BIRC5', 'AFMID', 'TK1', 'SYNGR2', 'PSMD12', 'HELZ', 'CACNG1', 'CACNG4', 'CACNG5', 'PRKCA']\n",
      "\n",
      "c9: Danio rerio C1 ['CACNG3A', 'PALB2']\n",
      "\n",
      "c10: Danio rerio C12 ['PGS1', 'THA1', 'TMEM235']\n",
      "\n",
      "c11: Danio rerio C16 ['CACNG6B', 'CACNG8B', 'CACNG7B', 'PRKCG']\n",
      "\n",
      "c12: Danio rerio C19 ['CACNG6A', 'CACNG8A', 'CACNG7A']\n",
      "\n",
      "c13: Danio rerio C3 ['AXIN2', 'CEP112', 'CACNG5B', 'PITPNC1', 'HELZ', 'CACNG1B', 'CACNG4B', 'AIMP2', 'CACNG3B', 'RBBP6', 'TNRC6A', 'CARHSP1', 'ABAT', 'METTL22', 'TMEM114', 'RBFOX1', 'GSG1L', 'CACNG2A', 'DCTN5']\n",
      "\n",
      "c14: Danio rerio C6 ['PRKCA', 'CACNG5A', 'CACNG1A', 'CACNG4A', 'PSMD12']\n",
      "\n",
      "c15: Homo sapiens C16 ['CHP2', 'PRKCB', 'CACNG3', 'RBBP6', 'TNRC6A', 'TMEM114', 'METTL22', 'ABAT']\n",
      "\n",
      "c16: Homo sapiens C17 ['CACNG5', 'CACNG4', 'CACNG1', 'HELZ', 'PSMD12', 'SYNGR2', 'TK1', 'AFMID', 'BIRC5', 'TMEM235', 'SOCS3']\n",
      "\n",
      "c17: Homo sapiens C19 ['MYADM', 'PRKCG', 'CACNG7', 'CACNG8', 'CACNG6', 'VSTM1', 'TARM1', 'OSCAR', 'NDUFA3', 'TFPT', 'NLRP12']\n",
      "\n",
      "c18: Homo sapiens C22 ['PVALB', 'NCF4', 'FOXRED2', 'EIF3D', 'CACNG2', 'IFT27']\n",
      "\n",
      "c19: Mus musculus C11 ['SOCS3', 'PGS1', 'CACNG1', 'CACNG4', 'CACNG5', 'TMEM235', 'THA1', 'PSMD12', 'HELZ', 'SYNGR2', 'TK1', 'AFMID', 'BIRC5', 'PRKCA']\n",
      "\n",
      "c20: Mus musculus C15 ['CACNG2', 'IFT27', 'PVALB', 'NCF4', 'TXN2', 'FOXRED2', 'EIF3D']\n",
      "\n",
      "c21: Mus musculus C16 ['TMEM114', 'METTL22', 'ABAT']\n",
      "\n",
      "c22: Mus musculus C7 ['MYADM', 'PRKCG', 'CACNG7', 'CACNG8', 'CACNG6', 'TARM1', 'OSCAR', 'NDUFA3', 'PRKCB', 'CACNG3', 'RBBP6']\n",
      "\n",
      "c23: Petromyzon marinus C26 ['TNRC6C', '(CACNG2-LIKE) LOC116946191', 'IFT27']\n",
      "\n",
      "c24: Petromyzon marinus C3 ['KPNA2', 'AIMP2', 'CACNG1', 'RBBP6', 'TRNAG-CCC', 'TRNAG-CCC', '(TMEM114-LIKE) LOC116954040']\n",
      "\n",
      "c25: Petromyzon marinus C37 ['(CACNG2-LIKE) LOC116949560']\n",
      "\n",
      "c26: Petromyzon marinus C43 ['CACNG3', '(CACNG5-LIKE) LOC116951515', 'AQP8']\n",
      "\n",
      "c27: Petromyzon marinus C72 ['(CACNG5-LIKE)LOC116957315']\n",
      "\n",
      "c28: Xenopus tropicalis C10 ['PSMD12', 'PITPNC1', 'CEP112', 'APOH', 'PRKCA', 'CACNG5', 'CACNG4', 'CACNG1', 'HELZ']\n",
      "\n",
      "c29: Xenopus tropicalis C4 ['TEX33', 'CSF2RB', 'NCF4', 'PVALB', 'IFT27', 'CACNG2', 'EIF3D']\n",
      "\n",
      "c30: Xenopus tropicalis C7 ['EMP3', 'MYADM', 'PRKCG', 'CACNG7', 'CACNG8', 'CACNG6', 'AXIN2']\n",
      "\n",
      "c31: Xenopus tropicalis C9 ['CARHSP1', 'TMEM186', 'ABAT', 'METTL22', 'TMEM114', 'RBFOX1', 'EEF2KMT', 'ALG1', 'GSG1L', 'MLST8', 'CASKIN1', 'CACNG3', 'PRKCB', 'AQP8', 'ARHGAP17']\n",
      "\n"
     ]
    }
   ],
   "source": [
    "score = 2  ###set a minimum score\n",
    "genelist = []  #gene that higher than score\n",
    "for gene in scoredict: \n",
    "    if scoredict[gene] >= score:\n",
    "        genelist.append(gene)\n",
    "\n",
    "\n",
    "for index in range (Chromosome.count):  #remove each neighbourgene that not in genelist(score lower than n)\n",
    "    templist = []\n",
    "    exec(f\"\"\"\n",
    "for neighbourgene in c{index}.neighbour:\n",
    "    if neighbourgene.upper() in genelist:\n",
    "        templist.append(neighbourgene.upper())\"\"\")  #append score that is higher than n to a templist\n",
    "    exec(f\"c{index}.set_genes(templist)\")  #set Chromosome.gene as templist\n",
    "    exec(f'print(\"c{index}: \", end=\"\")')  #print \n",
    "    exec(f\"print(c{index}.species, c{index}.location, c{index}.genes)\") #print species and location\n",
    "    print()"
   ]
  },
  {
   "cell_type": "code",
   "execution_count": 107,
   "metadata": {},
   "outputs": [],
   "source": [
    "specieslist = set()\n",
    "for index in range(Chromosome.count):\n",
    "    exec(f'specieslist.add(c{index}.species)')\n",
    "specieslist = list(specieslist)"
   ]
  },
  {
   "cell_type": "markdown",
   "metadata": {},
   "source": [
    "Initialize draw location"
   ]
  },
  {
   "cell_type": "code",
   "execution_count": 108,
   "metadata": {},
   "outputs": [],
   "source": [
    "buildxy = \"\"\"\n",
    "initialpoint = 300\n",
    "tempx = initialpoint\n",
    "tempy = initialpoint\n",
    "step = 80\n",
    "species = c0.species\n",
    "c0.textx = initialpoint\n",
    "c0.texty = initialpoint\n",
    "for index in range(1,Chromosome.count):\n",
    "    exec(f'''\n",
    "if c{index}.species == species:\n",
    "    c{index}.textx = tempx\n",
    "    c{index}.texty = c{index-1}.texty + step*len(c{index-1}.genes) + 300\n",
    "else:\n",
    "    tempx += 1000\n",
    "    species = c{index}.species\n",
    "    c{index}.texty = initialpoint\n",
    "    c{index}.textx = tempx\n",
    "\n",
    "#print(c{index}.textx,c{index}.texty)''') \n",
    "\"\"\"\n",
    "\n",
    "exec(buildxy)"
   ]
  },
  {
   "cell_type": "markdown",
   "metadata": {},
   "source": [
    "Draw Image"
   ]
  },
  {
   "cell_type": "code",
   "execution_count": 109,
   "metadata": {},
   "outputs": [],
   "source": [
    "draw = \"\"\"\n",
    "from PIL import Image, ImageDraw, ImageFont\n",
    "\n",
    "exec(f\"newImage = Image.new('RGBA', (c{Chromosome.count-1}.textx + 800,10000), 'White')\")\n",
    "drawObj = ImageDraw.Draw(newImage)\n",
    "\n",
    "fontInfo1 = ImageFont.truetype('C:\\Windows\\Fonts\\calibri.ttf', 80)\n",
    "fontInfo2 = ImageFont.truetype('C:\\Windows\\Fonts\\calibri.ttf', 50)\n",
    "\n",
    "for i in range(Chromosome.count):\n",
    "    exec(f'drawObj.text((c{i}.textx, c{i}.texty), c{i}.location, fill=\"black\", font=fontInfo2)')\n",
    "    exec(f'''\n",
    "ladder = 0\n",
    "step = 80\n",
    "for gene in c{i}.genes:\n",
    "    if c{i}.texty == initialpoint:\n",
    "        drawObj.text((c{i}.textx, 50), c{i}.species, fill=\"black\",font=fontInfo1)\n",
    "    ladder += step\n",
    "    if \"CACNG\" in gene:\n",
    "        drawObj.text((c{i}.textx, c{i}.texty + ladder), gene, fill=\"red\", font=fontInfo2)\n",
    "    elif \"TMEM114\" in gene:\n",
    "        drawObj.text((c{i}.textx, c{i}.texty + ladder), gene, fill=\"red\", font=fontInfo2)\n",
    "    elif \"TMEM235\" in gene:\n",
    "        drawObj.text((c{i}.textx, c{i}.texty + ladder), gene, fill=\"red\", font=fontInfo2)\n",
    "    else:\n",
    "        drawObj.text((c{i}.textx, c{i}.texty + ladder), gene, fill=\"black\", font=fontInfo2)\n",
    "    ''')\n",
    "newImage.show()\n",
    "\"\"\"\n",
    "\n",
    "exec(draw)"
   ]
  },
  {
   "cell_type": "markdown",
   "metadata": {},
   "source": [
    "Swap"
   ]
  },
  {
   "cell_type": "code",
   "execution_count": 110,
   "metadata": {},
   "outputs": [],
   "source": [
    "# def Swap():\n",
    "#     x,y = input().split()\n",
    "#     cmd = f\"{x}, {y} = {y}, {x}\"\n",
    "#     return cmd\n",
    "\n",
    "# exec(Swap())\n",
    "# exec(buildxy)\n",
    "# exec(draw)"
   ]
  },
  {
   "cell_type": "code",
   "execution_count": null,
   "metadata": {},
   "outputs": [],
   "source": []
  }
 ],
 "metadata": {
  "interpreter": {
   "hash": "d2c1845aa41483b05395b2444e9cc1d1db12b4e36041ff17c25c8710311460d9"
  },
  "kernelspec": {
   "display_name": "Python 3.10.0 64-bit",
   "language": "python",
   "name": "python3"
  },
  "language_info": {
   "codemirror_mode": {
    "name": "ipython",
    "version": 3
   },
   "file_extension": ".py",
   "mimetype": "text/x-python",
   "name": "python",
   "nbconvert_exporter": "python",
   "pygments_lexer": "ipython3",
   "version": "3.8.5"
  },
  "orig_nbformat": 4
 },
 "nbformat": 4,
 "nbformat_minor": 2
}
