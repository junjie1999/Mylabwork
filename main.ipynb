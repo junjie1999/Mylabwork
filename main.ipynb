{
 "cells": [
  {
   "cell_type": "code",
   "execution_count": 80,
   "metadata": {},
   "outputs": [
    {
     "name": "stdout",
     "output_type": "stream",
     "text": [
      "Current value = \"abc\"\n",
      "[ThirdClass: abc]\n",
      "[ThirdClass: abcabcabc]\n"
     ]
    }
   ],
   "source": [
    "class FirstClass: # Define a class object\n",
    "    def setdata(self, value): # Define class's methods\n",
    "        self.data = value # self is the instance\n",
    "    def display(self):\n",
    "        print(self.data)\n",
    "\n",
    "class SecondClass(FirstClass): # Inherits setdata\n",
    "    def display(self): # Changes display\n",
    "        print('Current value = \"%s\"' % self.data)\n",
    "\n",
    "class ThirdClass(SecondClass): # Inherit from SecondClass\n",
    "    def __init__(self, value): # On \"ThirdClass(value)\"\n",
    "        self.data = value\n",
    "    def __add__(self, other): # On \"self + other\"\n",
    "        return ThirdClass(self.data + other)\n",
    "    def __str__(self): # On \"print(self)\", \"str()\"\n",
    "        return f'[ThirdClass: {self.data}]'\n",
    "    def mul(self,count):\n",
    "        self.data *= count\n",
    "\n",
    "a = ThirdClass('abc') # __init__ called\n",
    "a.display()\n",
    "print(a)\n",
    "a.mul(3) # mul: changes instance in place\n",
    "print(a)"
   ]
  },
  {
   "cell_type": "code",
   "execution_count": 81,
   "metadata": {},
   "outputs": [],
   "source": [
    "import pandas as pd\n",
    "import re\n",
    "import os\n",
    "\n",
    "class Chromosome:\n",
    "\n",
    "    def __init__(self, filename):  #initilize filename\n",
    "        self.filename = filename\n",
    "\n",
    "        def get_data(filename):  #get csv data\n",
    "            data = pd.read_csv(\"data\\\\syntenic\\\\\" + filename, skiprows=[0])\n",
    "            return data\n",
    "\n",
    "        def get_species(filename):  #get species name by filename\n",
    "            species = re.search(\"[A-Za-z\\s]+\", filename)\n",
    "            return species.group(0)\n",
    "\n",
    "        def get_chromosome_location(filename):  #get chromosome_location by filename\n",
    "            temp = re.sub(\".CSV\", \"\", filename)  #remove filetype\n",
    "            location = re.search(\"[_]([A-Za-z0-9\\s_.]+)\", temp)\n",
    "            return location.group(1)\n",
    "\n",
    "        def get_gene(data):  #get gene\n",
    "            neighbourgenes = []\n",
    "            for gene in data[\"Gene symbol\"]:\n",
    "                if \"CACNG\" in gene.upper():\n",
    "                    neighbourgenes.append(gene)\n",
    "                elif \"TMEM114\" in gene.upper():\n",
    "                    neighbourgenes.append(gene)\n",
    "                elif \"TMEM235\" in gene.upper():\n",
    "                    neighbourgenes.append(gene)\n",
    "            return neighbourgenes\n",
    "\n",
    "        def get_neighbour_genes(genes,data,n):\n",
    "            neighbourindex = []  #a new list to save index of neighbour genes\n",
    "            neighbourgene = []\n",
    "            for index, gene in enumerate(data[\"Gene symbol\"]):  #a loop to save neighbourgene index\n",
    "                if gene in genes:\n",
    "                    for i in range (index-n, index+n+1):\n",
    "                        neighbourindex.append(i)\n",
    "            neighbourindex = list(set(neighbourindex))\n",
    "            for i in neighbourindex:\n",
    "                try:\n",
    "                    neighbourgene.append(data[\"Gene symbol\"][i])\n",
    "                except:\n",
    "                    pass\n",
    "            return neighbourgene\n",
    "\n",
    "        self.data = get_data(self.filename)\n",
    "        self.species = get_species(self.filename)\n",
    "        self.location = get_chromosome_location(self.filename)\n",
    "        self.genes = get_gene(self.data)\n",
    "        self.neighbour = get_neighbour_genes(self.genes,self.data,5)\n",
    "\n"
   ]
  },
  {
   "cell_type": "code",
   "execution_count": 82,
   "metadata": {},
   "outputs": [
    {
     "name": "stdout",
     "output_type": "stream",
     "text": [
      "c0: Anolis carolinensis C2 ['pgs1', 'LOC103277795', 'socs3', 'LOC103277796', 'LOC100564571', 'tmem235', 'birc5', 'afmid', 'tk1', 'syngr2', 'tmc8']\n",
      "\n",
      "c1: Anolis carolinensis C5 ['myh9', 'LOC103278846', 'txn2', 'foxred2', 'eif3d', 'cacng2', 'ift27', 'pvalb', 'ncf4', 'csf2rb', 'tex33']\n",
      "\n",
      "c2: Anolis carolinensis scaffold NW_003338797.1 ['cacng5', 'cacng4', 'cacng1', 'helz', 'psmd12', 'pitpnc1', 'LOC107983219', 'nol11']\n",
      "\n",
      "c3: Anolis carolinensis scaffold NW_003338810.1 ['rbfox1', 'mir5411', 'LOC107983238', 'LOC107983239', 'tmem114', 'mettl22', 'abat', 'tmem186', 'pmm2', 'carhsp1']\n",
      "\n",
      "c4: Anolis carolinensis scaffold NW_003338876.1 ['ccdc114', 'myadm', 'LOC100557974', 'prkcg', 'LOC103280215', 'cacng6', 'cacng8', 'cacng7', 'LOC100560082', 'rps9', 'lmtk3', 'LOC100560478', 'LOC100560675']\n",
      "\n",
      "c5: Canis lupus familiaris C1 ['LOC119870904', 'LOC484314', 'VSTM1', 'CACNG6', 'CACNG8', 'CACNG7', 'PRKCG', 'MYADM', 'NLRP12', 'MIR371', 'LOC106559259', 'LOC106559612', 'LOC119875990']\n",
      "\n",
      "c6: Canis lupus familiaris C10 ['CACNG2', 'MIR8827', 'EIF3D', 'LOC111097659', 'FOXRED2', 'LOC111097833', 'CSF2RB', 'NCF4', 'PVALB', 'IFT27', 'LOC111097658']\n",
      "\n",
      "c7: Canis lupus familiaris C6 ['PMM2', 'TMEM186', 'ABAT', 'LOC111096467', 'METTL22', 'TMEM114', 'LOC119872336', 'RBFOX1', 'LOC106558895', 'LOC100686080', 'LOC102154901', 'LOC100687897', 'RBBP6', 'LOC111096272', 'LOC111096274', 'LOC100686870', 'CACNG3', 'LOC119872178', 'PRKCB', 'LOC119872434', 'LOC119872330', 'CHP2']\n",
      "\n",
      "c8: Canis lupus familiaris C9 ['PGS1', 'SOCS3', 'LOC119873213', 'LOC111097281', 'LOC491550', 'TMEM235', 'BIRC5', 'AFMID', 'TK1', 'SYNGR2', 'LOC119873214', 'PSMD12', 'LOC111097528', 'LOC480464', 'LOC119873413', 'HELZ', 'CACNG1', 'CACNG4', 'LOC102154199', 'CACNG5', 'LOC106559242', 'PRKCA', 'LOC119873461', 'LOC111097324', 'LOC111097325']\n",
      "\n",
      "c9: Danio rerio C1 ['socs1b', 'si:ch73-191k20.4', 'LOC103911865', 'tlr2', 'prkcba', 'cacng3a', 'si:ch211-14k19.8', 'ndufab1a', 'palb2', 'LOC110439775', 'zgc:152698']\n",
      "\n",
      "c10: Danio rerio C12 ['cyth1b', 'pgs1', 'LOC108191731', 'socs3b', 'tha1', 'tmem235', 'birc5a', 'fscn2b', 'LOC103911938', 'bahcc1b', 'slc38a10']\n",
      "\n",
      "c11: Danio rerio C16 ['u2af2a', 'cacng6b', 'cacng8b', 'cacng7b', 'prkcg', 'LOC100149482', 'zgc:101640', 'si:dkeyp-69b9.3', 'LOC101883024', 'sbk3', 'epn1', 'foxj2', 'isoc2']\n",
      "\n",
      "c12: Danio rerio C19 ['fam131ba', 'clcn1a', 'si:dkey-14o18.6', 'slc2a3a', 'si:dkey-14o18.2', 'cacng6a', 'LOC108180147', 'cacng8a', 'cacng7a', 'grin2da', 'dbpa', 'znf865', 'shisa7b', 'cnot3b']\n",
      "\n",
      "c13: Danio rerio C3 ['si:dkey-188h10.3', 'tex2', 'axin2', 'cep112', 'si:ch73-374l24.1', 'cacng5b', 'cyth3b', 'LOC797202', 'rac1b', 'stk19', 'LOC101885631', 'anks4b', 'pitpnc1', 'helz', 'cacng1b', 'cacng4b', 'aimp2', 'pvalb8', 'pvalb4', 'pvalb1', 'pvalb5', 'LOC566378', 'itga3a', 'ca10b', 'LOC108182833', 'smarce1', 'prkcbb', 'cacng3b', 'rbbp6', 'tnrc6a', 'ndufab1b', 'rpusd1', 'carhsp1', 'abat', 'mettl22', 'LOC103910254', 'LOC103910253', 'tmem114', 'rbfox1', '12-Sep', 'fbxl16', 'si:dkey-20j1.2', 'gsg1l', 'dxo', 'sult3st1', 'LOC798736', 'si:ch73-233k15.2', 'LOC110437798', 'LOC101886115', 'cacng2a', 'LOC101886369', 'rpl3', 'slc25a39', 'rpl27', 'si:dkey-151m15.5', 'dctn5']\n",
      "\n",
      "c14: Danio rerio C6 ['inha', 'spega', 'obsl1a', 'cidec', 'prkca', 'cacng5a', 'LOC110439882', 'cacng1a', 'cacng4a', 'psmd12', 'micall1a', 'si:dkey-43k4.3', 'ppp1r12c', 'si:dkey-43k4.5']\n",
      "\n",
      "c15: Homo sapiens C16 ['CHP2', 'PRKCB', 'LOC105371141', 'MIR1273H', 'LINC02194', 'CACNG3', 'RNU7-24P', 'LOC105371143', 'RBBP6', 'LOC107984829', 'TNRC6A', 'LOC105371069', 'LOC105371070', 'LINC02152', 'LOC105371072', 'LOC100131080', 'TMEM114', 'METTL22', 'ABAT', 'RN7SL743P', 'RNU7-63P', 'LOC107984840']\n",
      "\n",
      "c16: Homo sapiens C17 ['RN7SL735P', 'PRKCA-AS1', 'RNU6-928P', 'RNA5SP445', 'MIR634', 'CACNG5', 'RNA5SP446', 'CACNG4', 'CACNG1', 'HELZ', 'RPL36AP48', 'HELZ-AS1', 'RNA5SP447', 'PSMD12', 'SYNGR2', 'TK1', 'LOC107985050', 'AFMID', 'BIRC5', 'TMEM235', 'LOC105371910', 'THA1P', 'LINC01993', 'LOC105371912', 'SOCS3']\n",
      "\n",
      "c17: Homo sapiens C19 ['MYADM-AS1', 'MYADM', 'PRKCG', 'CACNG7', 'CACNG8', 'MIR935', 'CACNG6', 'VSTM1', 'TARM1', 'OSCAR', 'NDUFA3', 'TFPT', 'MIR373', 'NLRP12']\n",
      "\n",
      "c18: Homo sapiens C22 ['PVALB', 'NCF4-AS1', 'NCF4', 'FOXRED2', 'LOC105373020', 'LOC105373019', 'EIF3D', 'LOC100500719', 'CACNG2', 'LOC105373021', 'IFT27']\n",
      "\n",
      "c19: Mus musculus C11 ['Mir7223', 'Gm51922', 'Gm11655', 'Gm11725', 'Socs3', 'Pgs1', 'Mir6933', 'Mir6932', 'Cacng1', 'Cacng4', 'Gm11650', 'Cacng5', 'Tmem235', 'Tha1', 'Psmd12', 'A830035A12Rik', 'Gm39426', 'Helz', '6030468B19Rik', 'Syngr2', 'Tk1', 'Afmid', 'Birc5', 'Prkca', 'LOC118567874']\n",
      "\n",
      "c20: Mus musculus C15 ['Cacng2', 'Gm46520', 'A730060N03Rik', 'Ift27', 'Pvalb', 'Ncf4', 'Gm22107', 'LOC118568208', 'Txn2', 'Foxred2', 'Eif3d']\n",
      "\n",
      "c21: Mus musculus C16 ['Gm36824', 'Gm29854', 'Gm26159', 'Gm29936', 'Gm24579', 'Tmem114', 'Gm30012', 'Mettl22', 'Gm23706', 'Abat', 'Gm18792']\n",
      "\n",
      "c22: Mus musculus C7 ['Mir295', 'Gm20553', 'Gm5340', 'Myadm', 'Prkcg', 'Cacng7', 'Gm9567', 'Cacng8', 'Gm23450', '3300002P13Rik', 'Cacng6', 'Gm35037', 'Gm45920', 'Tarm1', 'Oscar', 'Ndufa3', 'Gm23614', 'Gm30059', 'Prkcb', 'Gm51497', 'Gm14388', 'Cacng3', 'Gm29759', 'Gm39082', 'Gm39083', '4930413G21Rik', 'Rbbp6']\n",
      "\n",
      "c23: Xenopus tropicalis C10 ['psmd12', 'pitpnc1', 'LOC108645564', 'LOC116408077', 'LOC116406464', 'cep112', 'apoh', 'prkca', 'cacng5', 'cacng4', 'cacng1', 'LOC116408015', 'helz']\n",
      "\n",
      "c24: Xenopus tropicalis C4 ['tex33', 'csf2rb', 'ncf4', 'pvalb', 'ift27', 'cacng2', 'eif3d', 'mustn1', 'stimate', 'LOC116410503', 'sfmbt1']\n",
      "\n",
      "c25: Xenopus tropicalis C7 ['emp3', 'ccdc63', 'myadm', 'LOC100497740', 'prkcg', 'cacng7', 'cacng8', 'cacng6', 'pitpnc1l', 'axin2', 'fam83e', 'LOC100497104', 'LOC100498051']\n",
      "\n",
      "c26: Xenopus tropicalis C9 ['carhsp1', 'pmm1', 'tmem186', 'abat', 'mettl22', 'tmem114', 'rbfox1', 'enpp7-l', 'eef2kmt', 'alg1', 'gsg1l', 'pgp', 'bricd5', 'mlst8', 'hexdl', 'caskin1', 'cacng3', 'prkcb', 'aqp8', 'lcmt1', 'arhgap17', 'tex47']\n",
      "\n"
     ]
    }
   ],
   "source": [
    "filelist = os.listdir(\"data\\\\syntenic\")  #get file list\n",
    "for index, file in enumerate(filelist):  #a loop to initialize class chromosome\n",
    "    exec(f\"c{index} = Chromosome(file)\")  #initialize chromosome\n",
    "    exec('print(f\"c{index}: \", end=\"\")')  #print initialized class name\n",
    "    exec(f\"print(c{index}.species, c{index}.location, c{index}.neighbour)\") #print species and location\n",
    "    print()"
   ]
  },
  {
   "cell_type": "code",
   "execution_count": 83,
   "metadata": {},
   "outputs": [],
   "source": [
    "df = pd.DataFrame()\n",
    "\n",
    "for index, file in enumerate(filelist):  #add column name species and location to class.data (Dataframe)\n",
    "     exec(f\"df{index} = c{index}.data\")  #assign df \n",
    "     exec(f\"df{index}.insert(0,'Species', c{index}.species)\")  #insert species\n",
    "     exec(f\"df{index}.insert(1,'Location', c{index}.location)\")  #insert location\n",
    "     exec(f\"df = df.append(df{index}, ignore_index=True)\")\n",
    "\n",
    "df['Gene symbol'] = df['Gene symbol'].str.upper()  #change gene symbol to upper letter"
   ]
  },
  {
   "cell_type": "code",
   "execution_count": 84,
   "metadata": {},
   "outputs": [],
   "source": [
    "n = 5  #distance as neighbour\n",
    "neighbourindex = []  #a new list to save index of neighbour genes\n",
    "for index, gene in enumerate(df[\"Gene symbol\"]):  #a loop to save neighbourgene index\n",
    "    if (\"CACNG\") in gene:\n",
    "        for i in range (index-n, index+n+1):\n",
    "            neighbourindex.append(i)\n",
    "    elif (\"TMEM114\") in gene:\n",
    "        for i in range (index-n, index+n+1):\n",
    "            neighbourindex.append(i)\n",
    "    elif (\"TMEM235\") in gene:\n",
    "        for i in range (index-n, index+n+1):\n",
    "            neighbourindex.append(i)\n",
    "\n",
    "neighbourindex = sorted(list(set(neighbourindex)))  #remove duplicates\n",
    "newdf = df.iloc[neighbourindex, :-1]  #a new data by neighbourindex and remove name column"
   ]
  },
  {
   "cell_type": "code",
   "execution_count": 85,
   "metadata": {},
   "outputs": [
    {
     "name": "stdout",
     "output_type": "stream",
     "text": [
      "['fam131ba', 'clcn1a', 'si:dkey-14o18.6', 'slc2a3a', 'si:dkey-14o18.2', 'cacng6a', 'LOC108180147', 'cacng8a', 'cacng7a', 'grin2da', 'dbpa', 'znf865', 'shisa7b', 'cnot3b']\n"
     ]
    }
   ],
   "source": [
    "print(c12.neighbour)"
   ]
  },
  {
   "cell_type": "code",
   "execution_count": 86,
   "metadata": {},
   "outputs": [],
   "source": [
    "n = 5  #distance as neighbour\n",
    "neighbourindex = []  #a new list to save index of neighbour genes\n",
    "for index, gene in enumerate(df[\"Gene symbol\"]):  #a loop to save neighbourgene index\n",
    "    if (\"CACNG\") in gene:\n",
    "        for i in range (index-n, index+n+1):\n",
    "            neighbourindex.append(i)\n",
    "    elif (\"TMEM114\") in gene:\n",
    "        for i in range (index-n, index+n+1):\n",
    "            neighbourindex.append(i)\n",
    "    elif (\"TMEM235\") in gene:\n",
    "        for i in range (index-n, index+n+1):\n",
    "            neighbourindex.append(i)\n",
    "\n",
    "neighbourindex = sorted(list(set(neighbourindex)))  #remove duplicates\n",
    "newdf = df.iloc[neighbourindex, :-1]  #a new data by neighbourindex and remove name column"
   ]
  }
 ],
 "metadata": {
  "interpreter": {
   "hash": "d2c1845aa41483b05395b2444e9cc1d1db12b4e36041ff17c25c8710311460d9"
  },
  "kernelspec": {
   "display_name": "Python 3.10.0 64-bit",
   "language": "python",
   "name": "python3"
  },
  "language_info": {
   "codemirror_mode": {
    "name": "ipython",
    "version": 3
   },
   "file_extension": ".py",
   "mimetype": "text/x-python",
   "name": "python",
   "nbconvert_exporter": "python",
   "pygments_lexer": "ipython3",
   "version": "3.8.5"
  },
  "orig_nbformat": 4
 },
 "nbformat": 4,
 "nbformat_minor": 2
}
