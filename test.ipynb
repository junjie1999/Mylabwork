{
 "cells": [
  {
   "cell_type": "code",
   "execution_count": 5,
   "metadata": {},
   "outputs": [],
   "source": [
    "# load all libraries\n",
    "import pandas as pd\n",
    "import ncbi.datasets"
   ]
  },
  {
   "cell_type": "code",
   "execution_count": 6,
   "metadata": {},
   "outputs": [
    {
     "ename": "AttributeError",
     "evalue": "'NoneType' object has no attribute 'symbol'",
     "output_type": "error",
     "traceback": [
      "\u001b[1;31m---------------------------------------------------------------------------\u001b[0m",
      "\u001b[1;31mAttributeError\u001b[0m                            Traceback (most recent call last)",
      "\u001b[1;32m~\\AppData\\Local\\Temp/ipykernel_20016/1400773503.py\u001b[0m in \u001b[0;36m<module>\u001b[1;34m\u001b[0m\n\u001b[0;32m     20\u001b[0m         \u001b[0mprint\u001b[0m\u001b[1;33m(\u001b[0m\u001b[1;34mf'{gene.symbol} (GeneID: {gene.gene_id}), Chromosome: {gene.chromosomes}, SwissProt: {gene.swiss_prot_accessions}'\u001b[0m\u001b[1;33m)\u001b[0m\u001b[1;33m\u001b[0m\u001b[1;33m\u001b[0m\u001b[0m\n\u001b[0;32m     21\u001b[0m \u001b[1;33m\u001b[0m\u001b[0m\n\u001b[1;32m---> 22\u001b[1;33m \u001b[0mreport_on_gene_descriptors\u001b[0m\u001b[1;33m(\u001b[0m\u001b[0mgene_summary\u001b[0m\u001b[1;33m)\u001b[0m\u001b[1;33m\u001b[0m\u001b[1;33m\u001b[0m\u001b[0m\n\u001b[0m",
      "\u001b[1;32m~\\AppData\\Local\\Temp/ipykernel_20016/1400773503.py\u001b[0m in \u001b[0;36mreport_on_gene_descriptors\u001b[1;34m(gene_summary, leader, report_errors)\u001b[0m\n\u001b[0;32m     18\u001b[0m \u001b[1;33m\u001b[0m\u001b[0m\n\u001b[0;32m     19\u001b[0m     \u001b[1;32mfor\u001b[0m \u001b[0mgene\u001b[0m \u001b[1;32min\u001b[0m \u001b[0mmap\u001b[0m\u001b[1;33m(\u001b[0m\u001b[1;32mlambda\u001b[0m \u001b[0mg\u001b[0m\u001b[1;33m:\u001b[0m \u001b[0mg\u001b[0m\u001b[1;33m.\u001b[0m\u001b[0mgene\u001b[0m\u001b[1;33m,\u001b[0m \u001b[0mgene_summary\u001b[0m\u001b[1;33m.\u001b[0m\u001b[0mgenes\u001b[0m\u001b[1;33m)\u001b[0m\u001b[1;33m:\u001b[0m\u001b[1;33m\u001b[0m\u001b[1;33m\u001b[0m\u001b[0m\n\u001b[1;32m---> 20\u001b[1;33m         \u001b[0mprint\u001b[0m\u001b[1;33m(\u001b[0m\u001b[1;34mf'{gene.symbol} (GeneID: {gene.gene_id}), Chromosome: {gene.chromosomes}, SwissProt: {gene.swiss_prot_accessions}'\u001b[0m\u001b[1;33m)\u001b[0m\u001b[1;33m\u001b[0m\u001b[1;33m\u001b[0m\u001b[0m\n\u001b[0m\u001b[0;32m     21\u001b[0m \u001b[1;33m\u001b[0m\u001b[0m\n\u001b[0;32m     22\u001b[0m \u001b[0mreport_on_gene_descriptors\u001b[0m\u001b[1;33m(\u001b[0m\u001b[0mgene_summary\u001b[0m\u001b[1;33m)\u001b[0m\u001b[1;33m\u001b[0m\u001b[1;33m\u001b[0m\u001b[0m\n",
      "\u001b[1;31mAttributeError\u001b[0m: 'NoneType' object has no attribute 'symbol'"
     ]
    }
   ],
   "source": [
    "# Start a Datasets gene API instance\n",
    "api_client = ncbi.datasets.ApiClient()\n",
    "ds_gene_instance = ncbi.datasets.GeneApi(api_client)\n",
    "\n",
    "# Retrieve gene summaries for the three genes using NCBI Gene IDs\n",
    "gene_summary = ds_gene_instance.gene_metadata_by_id([1903612])\n",
    "\n",
    "# Look up the symbols, chromosome number and SwissProt accession for each gene ,84347,140724,140725,140726,140727,140728,140729,501675,688285\n",
    "def report_on_gene_descriptors(gene_summary, leader='\\t', report_errors=True):\n",
    "    if report_errors:\n",
    "        for message in gene_summary.messages or []:\n",
    "            print(f'{leader}Error for: ({\",\".join(message.error.invalid_identifiers)})')\n",
    "            print(f'{leader}{leader}Reason: ({message.error.reason})')\n",
    "\n",
    "    if not gene_summary.genes:\n",
    "        print(f'{leader}No genes found')\n",
    "        return\n",
    "\n",
    "    for gene in map(lambda g: g.gene, gene_summary.genes):\n",
    "        print(f'{gene.symbol} (GeneID: {gene.gene_id}), Chromosome: {gene.chromosomes}, SwissProt: {gene.swiss_prot_accessions}')\n",
    "\n",
    "report_on_gene_descriptors(gene_summary)"
   ]
  },
  {
   "cell_type": "code",
   "execution_count": 7,
   "metadata": {},
   "outputs": [],
   "source": [
    "import pandas as pd\n",
    "\n",
    "def get_acc(species):\n",
    "    acc = []\n",
    "    df = pd.read_excel(\"C:\\\\Users\\\\junjie\\\\Desktop\\\\lab\\\\work\\\\Myfile\\\\All_species.xlsx\", sheet_name=species)\n",
    "    for i in df[\"accession_number\"]:\n",
    "        acc.append(i)\n",
    "    return acc\n",
    "\n",
    "\n"
   ]
  },
  {
   "cell_type": "code",
   "execution_count": 8,
   "metadata": {},
   "outputs": [
    {
     "name": "stdout",
     "output_type": "stream",
     "text": [
      "218\n",
      "TMEM114,NP_001139808.1,\"Chromosome: 16; NC_000016.10(8569500..8590511, complement)\",NM_001146336.2, 674, 1345, 218,298,435\n",
      "-594\n",
      "TMEM235,NP_001191139.1,Chromosome: 17; NC_000017.11(78231293..78240987),NM_001204210.2,642, 1313, -594,187,267,404,653\n"
     ]
    }
   ],
   "source": [
    "#search location by gene id and protein accession number\n",
    "\n",
    "acc = [\"NP_001139808.1\",\"NP_001191139.1\"]\n",
    "geneID = [283953,283999]\n",
    "\n",
    "def searchlocation(acc, geneID):\n",
    "    api_client = ncbi.datasets.ApiClient()\n",
    "    ds_gene_instance = ncbi.datasets.GeneApi(api_client)\n",
    "    gene_summary = ds_gene_instance.gene_metadata_by_id([geneID])\n",
    "\n",
    "    for i in gene_summary.genes:\n",
    "        chromosome = (i.gene.chromosomes[0])\n",
    "        complement = i.gene.orientation\n",
    "        symbol = i.gene.symbol\n",
    "        cdna = \"\"\n",
    "        start = \"\"\n",
    "        stop = \"\"\n",
    "        complement = \"\"\n",
    "        accession_version = \"\"\n",
    "        cdnastart = \"\"\n",
    "        cdnastop = \"\"\n",
    "        exon = []\n",
    "        exonstart = 0\n",
    "        \n",
    "        if not i.gene.transcripts:\n",
    "            pass\n",
    "        else:\n",
    "            for l in i.gene.transcripts:\n",
    "                if not l.protein:\n",
    "                    pass\n",
    "                elif l.protein.accession_version == acc:\n",
    "                    accession_version = i.gene.transcripts[i.gene.transcripts.index(l)].genomic_range.accession_version\n",
    "                    cdna = i.gene.transcripts[i.gene.transcripts.index(l)].accession_version\n",
    "\n",
    "\n",
    "                    cdnastart = (i.gene.transcripts[i.gene.transcripts.index(l)].cds.range[0].begin)\n",
    "                    cdnastop = (i.gene.transcripts[i.gene.transcripts.index(l)].cds.range[0].end)\n",
    "\n",
    "\n",
    "                    start = (i.gene.transcripts[i.gene.transcripts.index(l)].genomic_range.range[0]['begin'])\n",
    "                    stop = (i.gene.transcripts[i.gene.transcripts.index(l)].genomic_range.range[0]['end'])\n",
    "                    complement = (i.gene.transcripts[i.gene.transcripts.index(l)].genomic_range.range[0]['orientation'])\n",
    "\n",
    "                    exon = [len(i.gene.transcripts[i.gene.transcripts.index(l)].genomic_locations[0].exons)]\n",
    "                    for num in range (len(i.gene.transcripts[i.gene.transcripts.index(l)].genomic_locations[0].exons)):\n",
    "                        exon.append(i.gene.transcripts[i.gene.transcripts.index(l)].genomic_locations[0].exons[num])\n",
    "                    exonstart = int(exon[1]['end'])-int(exon[1]['begin'])-int(cdnastart)\n",
    "                    tempexon = int(exonstart)\n",
    "                    print(tempexon)\n",
    "\n",
    "                else:\n",
    "                    pass\n",
    "\n",
    "        if str(complement)==\"minus\":\n",
    "            location = symbol + \",\" + acc + \",\\\"Chromosome: \" + chromosome + \"; \" + accession_version + \"(\" + start + \"..\" + stop + \", complement)\\\",\" + cdna + \", \" + cdnastart + \", \" + cdnastop + \", \" + str(exonstart)\n",
    "            for num in range (2,len(exon)-1):\n",
    "                tempexon += int(exon[num]['end'])-int(exon[num]['begin'])\n",
    "                location += \",\" + str(tempexon)\n",
    "        elif str(complement) != \"minus\":\n",
    "            location = symbol +  \",\" + acc + \",Chromosome: \" + chromosome + \"; \" + accession_version + \"(\" + start + \"..\" + stop + \"),\" + cdna + \",\" + cdnastart + \", \" + cdnastop + \", \" + str(exonstart)\n",
    "            for num in range (2,len(exon)-1):\n",
    "                tempexon += int(exon[num]['end'])-int(exon[num]['begin'])\n",
    "                location += \",\" + str(tempexon)\n",
    "        return location\n",
    "\n",
    "for i in range(len(acc)):\n",
    "    print(searchlocation(acc[i], geneID[i]))\n"
   ]
  },
  {
   "cell_type": "markdown",
   "metadata": {},
   "source": []
  },
  {
   "cell_type": "code",
   "execution_count": 9,
   "metadata": {},
   "outputs": [
    {
     "name": "stdout",
     "output_type": "stream",
     "text": [
      "218\n",
      "-594\n",
      "TMEM114,NP_001139808.1,\"Chromosome: 16; NC_000016.10(8569500..8590511, complement)\",NM_001146336.2, 674, 1345, 218,298,435\n",
      "TMEM235,NP_001191139.1,Chromosome: 17; NC_000017.11(78231293..78240987),NM_001204210.2,642, 1313, -594,187,267,404,653\n"
     ]
    }
   ],
   "source": [
    "def writecsvtxt(acc,geneID):\n",
    "    temp = []\n",
    "    for i in range(len(acc)):\n",
    "        temp.append(searchlocation(acc[i], geneID[i]))\n",
    "    return temp\n",
    "\n",
    "\n",
    "txt = writecsvtxt(acc,geneID)\n",
    "\n",
    "for i in txt:\n",
    "    print(i)"
   ]
  },
  {
   "cell_type": "code",
   "execution_count": 10,
   "metadata": {},
   "outputs": [],
   "source": [
    "### output to csv\n",
    "def outputcsv(txt):\n",
    "    file = open(\"output.csv\",'w')\n",
    "    file.write(\"protein,accession,location,cDNAs,begin,end,exon_boundary1,exon_boundary2,exon_boundary3,exon_boundary4,exon_boundary5,exon_boundary6,exon_boundary7,exon_boundary8\\n\")\n",
    "    for i in range(len(txt)):\n",
    "        if i != len(txt)-1:\n",
    "            file.write(txt[i] + \"\\n\")\n",
    "        else:\n",
    "            file.write(txt[i])\n",
    "    file.close()\n",
    "outputcsv(txt)"
   ]
  },
  {
   "cell_type": "code",
   "execution_count": 11,
   "metadata": {},
   "outputs": [],
   "source": [
    "### get begin and end\n",
    "def get_start_end():\n",
    "    df = pd.read_csv(\"output.csv\")\n",
    "    return list(df['begin']), list(df['end']),list(df['cDNAs'])\n",
    "\n",
    "start = get_start_end()[0]\n",
    "stop = get_start_end()[1]\n",
    "cDNAs = get_start_end()[2]"
   ]
  },
  {
   "cell_type": "code",
   "execution_count": 12,
   "metadata": {},
   "outputs": [
    {
     "name": "stdout",
     "output_type": "stream",
     "text": [
      ">NM_001146336.2:674-1345 Homo sapiens transmembrane protein 114 (TMEM114), transcript variant 1, mRNA\n",
      "ATGCGGGTGCACCTGGGCGGGCTGGCCGGCGCGGCTGCGCTGACCGGGGCGCTCAGCTTTGTGCTCCTGG\n",
      "CGGCCGCCATCGGCACGGACTTCTGGTATATCATTGACACCGAGCGGCTGGAGAGGACTGGCCCGGGGGC\n",
      "GCAGGACCTGCTGGGGTCCATCAATCGCAGCCAGCCCGAGCCTCTGAGCTCCCACTCCGGCCTCTGGCGG\n",
      "ACCTGCCGGGTGCAGAGCCCGTGCACACCGCTGATGAACCCCTTCAGGCTGGAGAACGTGACAGTCAGCG\n",
      "AATCGAGCCGGCAACTTCTCACCATGCATGGGACATTTGTGATTCTGCTGCCGCTCAGCCTGATCCTGAT\n",
      "GGTTTTTGGGGGGATGACGGGGTTTCTGAGCTTCCTCCTCCAAGCCTACCTCCTCCTCCTGCTCACTGGA\n",
      "ATTCTCTTCCTCTTTGGAGCCATGGTGACCCTCGCTGGGATCAGCGTCTACATAGCGTATTCAGCCGCCG\n",
      "CCTTCCGGGAGGCGCTGTGTCTCTTGGAGGAGAAGGCCCTCCTGGACCAGGTGGACATCAGCTTCGGCTG\n",
      "GTCCCTGGCCCTGGGCTGGATCAGCTTCATCGCCGAGCTGCTCACCGGGGCAGCCTTCCTGGCAGCAGCC\n",
      "CGCGAGCTCAGCCTGAGACGGAGGCAGGACCAGGCCATATGA\n",
      "\n",
      "\n",
      ">NM_001204210.2:642-1313 Homo sapiens transmembrane protein 235 (TMEM235), transcript variant 1, mRNA\n",
      "ATGGCCCGGCTGGGCGCGCTGCTCCTGGCCGCCGCCCTGGGTGCACTGCTCAGCTTCGCGCTCCTGGCCG\n",
      "CCGCGGTCGCCAGCGACTACTGGTACATCCTGGAGGTGGCGGACGCCGGCAATGGCAGCGCCTGGCCCGG\n",
      "GCGCGCAGAGCTGCTCTCCTCGCACTCGGGGCTCTGGCGCATCTGCGAAGGGCAGAACGGCTGCATCCCG\n",
      "CTGGTCGACCCTTTTGCCAGTGAGAGCCTGGACGTCTCCACCTCGGTGCAGCACCTCATCTTGCTGCACC\n",
      "GTGCAGTCATTGTGGTCCTGCCCCTGAGCCTGGTCCTTCTCGTGTGTGGCTGGATCTGCGGCCTGCTCAG\n",
      "CTCCCTGGCCCAGAGCGTGTCTCTGCTGCTTTTCACCGGCTGCTACTTCCTGCTGGGGAGTGTCCTGACA\n",
      "CTGGCGGGGGTCAGCATCTACATCAGCTACTCGCACCTGGCCTTTGCGGAGACGGTGCAGCAGTATGGCC\n",
      "CGCAGCACATGCAGGGCGTCCGCGTCAGCTTCGGCTGGTCCATGGCCCTGGCCTGGGGCTCCTGTGCCTT\n",
      "GGAGGCATTCAGCGGAACCCTCCTGCTCTCAGCTGCCTGGACCCTCAGCCTGAGCCCCCCAATCTGTGGT\n",
      "CATCTGAGTCCCCAGCAGGTGGGAGGGAGAGGGGGAGACTGA\n",
      "\n",
      "\n"
     ]
    }
   ],
   "source": [
    "####get sequence\n",
    "\n",
    "import re\n",
    "import pandas as pd\n",
    "from urllib.request import urlopen\n",
    "import os\n",
    "\n",
    "\n",
    "def AccesiontoID(accession_num):\n",
    "    url = \"https://www.ncbi.nlm.nih.gov/protein/\"+str(accession_num)+\"?report=gilist&log$=seqview&format=text\"\n",
    "    df = urlopen(url)\n",
    "    for lines in df:\n",
    "        lines = lines.decode(\"utf-8\")\n",
    "        if \"<pre>\" in lines:\n",
    "            id = lines[5:].rstrip()\n",
    "    return id\n",
    "\n",
    "def get_sequence(geneid,start,stop):\n",
    "    temp = \"\"\n",
    "    url = \"https://www.ncbi.nlm.nih.gov/sviewer/viewer.cgi?tool=portal&save=file&log$=seqview&db=nuccore&report=fasta&id=\" + geneid + \"&from=\" + str(start) + \"&to=\" + str(stop) + \"&extrafeat=null&conwithfeat=on&hide-cdd=on\"\n",
    "    file = urlopen(url)\n",
    "    for line in file:\n",
    "        temp += line.decode(\"utf-8\")\n",
    "    return temp\n",
    "\n",
    "for i in range(len(cDNAs)):\n",
    "    txt = get_sequence(AccesiontoID(cDNAs[i]),start[i],stop[i])\n",
    "    print(txt)"
   ]
  },
  {
   "cell_type": "code",
   "execution_count": 13,
   "metadata": {},
   "outputs": [
    {
     "ename": "FileNotFoundError",
     "evalue": "[Errno 2] No such file or directory: 'C:\\\\Users\\\\junjie\\\\Desktop\\\\lab\\\\work\\\\Myfile\\\\New folder\\\\Homo sapiens transmembrane protein 114 (TMEM114), transcript variant 1, mRNA.txt'",
     "output_type": "error",
     "traceback": [
      "\u001b[1;31m---------------------------------------------------------------------------\u001b[0m",
      "\u001b[1;31mFileNotFoundError\u001b[0m                         Traceback (most recent call last)",
      "\u001b[1;32m~\\AppData\\Local\\Temp/ipykernel_20016/2848963671.py\u001b[0m in \u001b[0;36m<module>\u001b[1;34m\u001b[0m\n\u001b[0;32m     17\u001b[0m     \u001b[0mtxt\u001b[0m \u001b[1;33m=\u001b[0m \u001b[0mget_sequence\u001b[0m\u001b[1;33m(\u001b[0m\u001b[0mAccesiontoID\u001b[0m\u001b[1;33m(\u001b[0m\u001b[0mcDNAs\u001b[0m\u001b[1;33m[\u001b[0m\u001b[0mi\u001b[0m\u001b[1;33m]\u001b[0m\u001b[1;33m)\u001b[0m\u001b[1;33m,\u001b[0m\u001b[0mstart\u001b[0m\u001b[1;33m[\u001b[0m\u001b[0mi\u001b[0m\u001b[1;33m]\u001b[0m\u001b[1;33m,\u001b[0m\u001b[0mstop\u001b[0m\u001b[1;33m[\u001b[0m\u001b[0mi\u001b[0m\u001b[1;33m]\u001b[0m\u001b[1;33m)\u001b[0m\u001b[1;33m\u001b[0m\u001b[1;33m\u001b[0m\u001b[0m\n\u001b[0;32m     18\u001b[0m     \u001b[0mtemp\u001b[0m\u001b[1;33m+=\u001b[0m\u001b[0mtxt\u001b[0m\u001b[1;33m\u001b[0m\u001b[1;33m\u001b[0m\u001b[0m\n\u001b[1;32m---> 19\u001b[1;33m     \u001b[0mwritetxt\u001b[0m\u001b[1;33m(\u001b[0m\u001b[0mcreatefilename\u001b[0m\u001b[1;33m(\u001b[0m\u001b[0mtxt\u001b[0m\u001b[1;33m)\u001b[0m\u001b[1;33m,\u001b[0m\u001b[0mtxt\u001b[0m\u001b[1;33m)\u001b[0m\u001b[1;33m\u001b[0m\u001b[1;33m\u001b[0m\u001b[0m\n\u001b[0m\u001b[0;32m     20\u001b[0m \u001b[1;33m\u001b[0m\u001b[0m\n\u001b[0;32m     21\u001b[0m \u001b[0mwritetxt\u001b[0m\u001b[1;33m(\u001b[0m\u001b[1;34m\"C:\\\\Users\\\\junjie\\\\Desktop\\\\lab\\\\work\\\\Myfile\\\\New folder\\\\\"\u001b[0m \u001b[1;33m+\u001b[0m \u001b[1;34m\"all.txt\"\u001b[0m\u001b[1;33m,\u001b[0m\u001b[0mtemp\u001b[0m\u001b[1;33m)\u001b[0m\u001b[1;33m\u001b[0m\u001b[1;33m\u001b[0m\u001b[0m\n",
      "\u001b[1;32m~\\AppData\\Local\\Temp/ipykernel_20016/2848963671.py\u001b[0m in \u001b[0;36mwritetxt\u001b[1;34m(path, txt)\u001b[0m\n\u001b[0;32m      9\u001b[0m \u001b[1;33m\u001b[0m\u001b[0m\n\u001b[0;32m     10\u001b[0m \u001b[1;32mdef\u001b[0m \u001b[0mwritetxt\u001b[0m\u001b[1;33m(\u001b[0m\u001b[0mpath\u001b[0m\u001b[1;33m,\u001b[0m\u001b[0mtxt\u001b[0m\u001b[1;33m)\u001b[0m\u001b[1;33m:\u001b[0m\u001b[1;33m\u001b[0m\u001b[1;33m\u001b[0m\u001b[0m\n\u001b[1;32m---> 11\u001b[1;33m     \u001b[1;32mwith\u001b[0m \u001b[0mopen\u001b[0m \u001b[1;33m(\u001b[0m\u001b[0mpath\u001b[0m\u001b[1;33m,\u001b[0m\u001b[1;34m\"w\"\u001b[0m\u001b[1;33m)\u001b[0m \u001b[1;32mas\u001b[0m \u001b[0mobj\u001b[0m\u001b[1;33m:\u001b[0m\u001b[1;33m\u001b[0m\u001b[1;33m\u001b[0m\u001b[0m\n\u001b[0m\u001b[0;32m     12\u001b[0m         \u001b[0mobj\u001b[0m\u001b[1;33m.\u001b[0m\u001b[0mwrite\u001b[0m\u001b[1;33m(\u001b[0m\u001b[0mtxt\u001b[0m\u001b[1;33m)\u001b[0m\u001b[1;33m\u001b[0m\u001b[1;33m\u001b[0m\u001b[0m\n\u001b[0;32m     13\u001b[0m \u001b[1;33m\u001b[0m\u001b[0m\n",
      "\u001b[1;31mFileNotFoundError\u001b[0m: [Errno 2] No such file or directory: 'C:\\\\Users\\\\junjie\\\\Desktop\\\\lab\\\\work\\\\Myfile\\\\New folder\\\\Homo sapiens transmembrane protein 114 (TMEM114), transcript variant 1, mRNA.txt'"
     ]
    }
   ],
   "source": [
    "path = \"C:\\\\Users\\\\junjie\\\\Desktop\\\\lab\\\\work\\\\Myfile\\\\New folder\\\\\"\n",
    "\n",
    "def createfilename(txt):\n",
    "    path = \"C:\\\\Users\\\\junjie\\\\Desktop\\\\lab\\\\work\\\\Myfile\\\\New folder\\\\\"\n",
    "    pattern = \"(?<=\\\\s).+\"\n",
    "    temp = re.findall(pattern,txt)\n",
    "    temp = re.sub(\"[;:]\",\"\",temp[0])\n",
    "    return path + temp + \".txt\"\n",
    "\n",
    "def writetxt(path,txt):\n",
    "    with open (path,\"w\") as obj:\n",
    "        obj.write(txt)\n",
    "\n",
    "\n",
    "temp = \"\"\n",
    "for i in range(len(cDNAs)):\n",
    "    txt = get_sequence(AccesiontoID(cDNAs[i]),start[i],stop[i])\n",
    "    temp+=txt\n",
    "    writetxt(createfilename(txt),txt)\n",
    "\n",
    "writetxt(\"C:\\\\Users\\\\junjie\\\\Desktop\\\\lab\\\\work\\\\Myfile\\\\New folder\\\\\" + \"all.txt\",temp)"
   ]
  },
  {
   "cell_type": "code",
   "execution_count": 14,
   "metadata": {},
   "outputs": [
    {
     "data": {
      "text/plain": [
       "{'genes': [{'query': ['1903612'],\n",
       "            'warnings': [{'gene_warning_code': 'UNRECOGNIZED_GENE_ID',\n",
       "                          'message': 'The gene you requested, (1903612) is not '\n",
       "                                     'a recognized NCBI Gene ID.\\n',\n",
       "                          'reason': 'This GeneID is unrecognized.',\n",
       "                          'unrecognized_identifier': '1903612'}]}]}"
      ]
     },
     "execution_count": 14,
     "metadata": {},
     "output_type": "execute_result"
    }
   ],
   "source": [
    "gene_summary"
   ]
  },
  {
   "cell_type": "code",
   "execution_count": null,
   "metadata": {},
   "outputs": [],
   "source": []
  },
  {
   "cell_type": "code",
   "execution_count": 15,
   "metadata": {},
   "outputs": [
    {
     "name": "stdout",
     "output_type": "stream",
     "text": [
      "-62\n",
      "cacng5b,XP_003456412.1,Chromosome: LG4; NC_031969.2(18973098..18995016),XM_003456364.4,421, 1251, -62,193,279,419,564\n",
      "-47\n",
      "cacng5,XP_005463339.1,Chromosome: LG6; NC_031971.2(28425321..28443748),XM_005463282.3,299, 1132, -47,193,279,419,564\n",
      "-47\n",
      "cacng5,XP_005463337.1,Chromosome: LG6; NC_031971.2(28425320..28443748),XM_005463280.3,300, 1175, -47,193,234,320,460,605\n"
     ]
    }
   ],
   "source": [
    "#search location by gene id and protein accession number\n",
    "\n",
    "acc = [\"XP_003456412.1\",\"XP_005463339.1\",\"XP_005463337.1\"]\n",
    "geneID = [100698262,100696764,100696764]\n",
    "\n",
    "for i in range(len(acc)):\n",
    "    print(searchlocation(acc[i], geneID[i]))"
   ]
  },
  {
   "cell_type": "markdown",
   "metadata": {},
   "source": [
    "# Gene structure and transmembrane domains analysis"
   ]
  },
  {
   "cell_type": "code",
   "execution_count": 16,
   "metadata": {},
   "outputs": [],
   "source": [
    "# read data from excel\n",
    "\n",
    "import pandas as pd\n",
    "\n",
    "dataf = pd.read_excel(\"data\\\\transmembrane\\\\Book1.xlsx\", sheet_name = \"Sheet3\")\n",
    "textname = []\n",
    "nuclen = []\n",
    "aalen = []\n",
    "exonboun = []\n",
    "trans = []\n",
    "templist = []\n",
    "\n",
    "for i in range(0,len(dataf[\"species\"])):\n",
    "    textname.append(dataf[\"species\"][i]+\" \"+dataf[\"protein\"][i])\n",
    "    templen = int(dataf[\"end\"][i])-int(dataf[\"begin\"][i])+1\n",
    "    nuclen.append(templen)\n",
    "    aalen.append(templen/3)\n",
    "    for j in range(1,6):\n",
    "        templist.append(dataf[\"exon_boundary\"+str(j)][i])\n",
    "    templist = [x for x in templist if x ==x ]\n",
    "    exonboun.append(templist)\n",
    "    templist = []\n",
    "    for k in range(1,6):\n",
    "        templist.append(dataf[\"trans\"+str(k)+\"_start\"][i])\n",
    "        templist.append(dataf[\"trans\"+str(k)+\"_end\"][i])\n",
    "    templist = [x for x in templist if x ==x ]\n",
    "    trans.append(templist)\n",
    "    templist = []\n"
   ]
  },
  {
   "cell_type": "code",
   "execution_count": 17,
   "metadata": {},
   "outputs": [],
   "source": [
    "# create figure\n",
    "\n",
    "from PIL import Image, ImageDraw, ImageFont\n",
    "\n",
    "newImage = Image.new('RGBA', (2000,2500), 'White')\n",
    "drawObj = ImageDraw.Draw(newImage)\n",
    "\n",
    "drawstart = 450\n",
    "recx1 = 5\n",
    "recx2 = 15\n",
    "recy1 = 20\n",
    "recy2 = 40\n",
    "texty = 15\n",
    "triy1 = 50\n",
    "triy2 = triy1+30\n",
    "gap = 180\n",
    "adjust = 1.5\n",
    "\n",
    "fontInfo = ImageFont.truetype('C:\\Windows\\Fonts\\calibri.ttf',45)\n",
    "\n",
    "for item in range(0,len(dataf)):\n",
    "\n",
    "    drawObj.text((20,texty), textname[item], fill='Black', font=fontInfo)\n",
    "\n",
    "    drawObj.rectangle((drawstart,recy1,drawstart+adjust*aalen[item],recy2),fill='lightgrey')\n",
    "\n",
    "    for i in range (0,len(trans[item]),2):\n",
    "        drawObj.rectangle((drawstart+round(adjust*trans[item][i]),recx1,drawstart+round(adjust*trans[item][i+1]),recx2),fill='Black')\n",
    "    \n",
    "    for i in range (0,len(exonboun[item])):\n",
    "        drawObj.polygon([(450+(round(exonboun[item][i]/nuclen[item]*adjust*aalen[item]))-10,triy2),(450+(round(exonboun[item][i]/nuclen[item]*adjust*aalen[item])),triy1),(450+(round(exonboun[item][i]/nuclen[item]*adjust*aalen[item]))+10,triy2)],fill='Black')\n",
    "\n",
    "    texty += gap\n",
    "    recy1 += gap\n",
    "    recy2 += gap\n",
    "    recx1 += gap\n",
    "    recx2 += gap\n",
    "    triy1 += gap\n",
    "    triy2 += gap\n",
    "\n",
    "\n",
    "drawObj.polygon([(950-10,texty+35),(950,texty+5),(950+10,texty+35)],fill='Black')\n",
    "drawObj.text((1000,texty), \": Exon boundaries\", fill='Black', font=fontInfo, align='right')\n",
    "\n",
    "drawObj.rectangle((925,texty+90,970,texty+100),fill='Black')\n",
    "drawObj.text((1000,texty+70), \": Predicted transmembrane segments\", fill='Black', font=fontInfo, align='right')\n",
    "\n",
    "newImage.save(\"structureout3.png\")"
   ]
  }
 ],
 "metadata": {
  "kernelspec": {
   "display_name": "Python 3.8.5 64-bit",
   "language": "python",
   "name": "python3"
  },
  "language_info": {
   "codemirror_mode": {
    "name": "ipython",
    "version": 3
   },
   "file_extension": ".py",
   "mimetype": "text/x-python",
   "name": "python",
   "nbconvert_exporter": "python",
   "pygments_lexer": "ipython3",
   "version": "3.8.5"
  },
  "vscode": {
   "interpreter": {
    "hash": "88bd4de4ad0fcb3b44b0075f4057ac2f9688329ee6fcc1e7f274caa50a4527c7"
   }
  }
 },
 "nbformat": 4,
 "nbformat_minor": 2
}
